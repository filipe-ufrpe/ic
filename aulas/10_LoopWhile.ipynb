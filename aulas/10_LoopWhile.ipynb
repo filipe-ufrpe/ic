{
 "cells": [
  {
   "cell_type": "markdown",
   "metadata": {
    "colab_type": "text",
    "id": "view-in-github"
   },
   "source": [
    "[View in Colaboratory](https://colab.research.google.com/github/ufrpe-eagri-ic/aulas/blob/master/10_LoopWhile.ipynb)"
   ]
  },
  {
   "cell_type": "markdown",
   "metadata": {
    "colab_type": "text",
    "id": "YePrOKWG5hRR"
   },
   "source": [
    "# while\n",
    "\n",
    "O laço while sempre precisa de um criterio de parada\n",
    "\n",
    "**Exemplo**"
   ]
  },
  {
   "cell_type": "code",
   "execution_count": null,
   "metadata": {
    "colab": {},
    "colab_type": "code",
    "id": "7JHvG7FF5l7l"
   },
   "outputs": [],
   "source": [
    "counter = 0\n",
    "while counter <= 6:\n",
    "    print(counter)\n",
    "    counter += 1"
   ]
  },
  {
   "cell_type": "markdown",
   "metadata": {
    "colab_type": "text",
    "id": "GOONlZOf5vYJ"
   },
   "source": [
    "# while aninhado\n",
    "\n",
    "Loops while aninhados (*nested*) são ciclos **whiles** um dentro do outro."
   ]
  },
  {
   "cell_type": "code",
   "execution_count": null,
   "metadata": {
    "colab": {},
    "colab_type": "code",
    "id": "ExUuLYkS6IbA"
   },
   "outputs": [],
   "source": [
    "i = 0\n",
    "n = 5\n",
    "while i < n:\n",
    "    j = 0\n",
    "    while j < n:\n",
    "        print(i, j)\n",
    "        j += 1\n",
    "    i += 1"
   ]
  },
  {
   "cell_type": "markdown",
   "metadata": {
    "colab_type": "text",
    "id": "_kI7MHFH_O_1"
   },
   "source": [
    "# Controle de fluxo\n",
    "Existem alguns comandos que permitem controlar o fluxo de qualquer loop iterativo: **continue**, **break** e **pass**.\n",
    "\n",
    "*   **continue** interrompe a iteração atual e continua até o próximo elemento, se houver um.\n",
    "*   **break** interrompe a iteração atual e deixa o loop.\n",
    "*   **pass** faz nada, e é apenas um espaço reservado quando a sintaxe requer algum código precisa estar presente"
   ]
  },
  {
   "cell_type": "code",
   "execution_count": null,
   "metadata": {
    "colab": {},
    "colab_type": "code",
    "id": "vhiNg3lW_pRV"
   },
   "outputs": [],
   "source": [
    "for n in range(10):\n",
    "    if n == 5:\n",
    "        continue\n",
    "    print(n)"
   ]
  },
  {
   "cell_type": "code",
   "execution_count": null,
   "metadata": {
    "colab": {},
    "colab_type": "code",
    "id": "8LRTKbZP_rHf"
   },
   "outputs": [],
   "source": [
    "# imprime todos os números até (mas não incluindo) 5 e, em seguida, interrompe o loop.\n",
    "for n in range(10):\n",
    "    print('.')\n",
    "    if n == 5:\n",
    "        break\n",
    "    print(n)\n",
    "\n",
    "print('fim')"
   ]
  },
  {
   "cell_type": "code",
   "execution_count": null,
   "metadata": {
    "colab": {},
    "colab_type": "code",
    "id": "IuMfnHMH_8YD"
   },
   "outputs": [],
   "source": [
    "temp = ''\n",
    "while(True):\n",
    "  entrada = input('digite qualquer coisa, ou x para parar: ')\n",
    "  if entrada == 'x':\n",
    "    break\n",
    "  else:\n",
    "    continue\n",
    "    \n",
    "print('você digitou x, FIM')"
   ]
  },
  {
   "cell_type": "code",
   "execution_count": null,
   "metadata": {
    "colab": {},
    "colab_type": "code",
    "id": "_8wIZ-5z_8wQ"
   },
   "outputs": [],
   "source": [
    "# exemplo do uso de 'pass'\n",
    "x = 2\n",
    "if x == 1:\n",
    "    pass        \n",
    "elif x == 2:\n",
    "    print(x)"
   ]
  },
  {
   "cell_type": "markdown",
   "metadata": {
    "colab_type": "text",
    "id": "XXofsBJZ85gd"
   },
   "source": [
    "## Exercícios:\n",
    "Faça um programa que calcule o fatorial de um número inteiro fornecido pelo usuário. \n",
    "Exemplo: \n",
    "  ```\n",
    "  >>> fatorial(5)\n",
    "  >>> 120\n",
    "  ```"
   ]
  },
  {
   "cell_type": "code",
   "execution_count": null,
   "metadata": {
    "colab": {},
    "colab_type": "code",
    "id": "smoiXXIl8nAD"
   },
   "outputs": [],
   "source": []
  },
  {
   "cell_type": "markdown",
   "metadata": {
    "colab_type": "text",
    "id": "RM9l_el59EgX"
   },
   "source": [
    "Faça um programa que peça uma nota, entre zero e dez. Mostre uma mensagem caso o valor seja inválido e continue pedindo até que o usuário informe um valor válido."
   ]
  },
  {
   "cell_type": "code",
   "execution_count": null,
   "metadata": {
    "colab": {},
    "colab_type": "code",
    "id": "b9txSCQy9Gfs"
   },
   "outputs": [],
   "source": []
  },
  {
   "cell_type": "markdown",
   "metadata": {
    "colab_type": "text",
    "id": "T6moOK6W9LHF"
   },
   "source": [
    "Faça um programa que leia um nome de usuário e a sua senha e não aceite a senha igual ao nome do usuário, mostrando uma mensagem de erro e voltando a pedir as informações"
   ]
  },
  {
   "cell_type": "code",
   "execution_count": null,
   "metadata": {
    "colab": {},
    "colab_type": "code",
    "id": "N_avDOmo9L6p"
   },
   "outputs": [],
   "source": []
  }
 ],
 "metadata": {
  "colab": {
   "include_colab_link": true,
   "name": "10_LoopWhile.ipynb",
   "provenance": [],
   "version": "0.3.2"
  },
  "kernelspec": {
   "display_name": "Python 3",
   "language": "python",
   "name": "python3"
  },
  "language_info": {
   "codemirror_mode": {
    "name": "ipython",
    "version": 3
   },
   "file_extension": ".py",
   "mimetype": "text/x-python",
   "name": "python",
   "nbconvert_exporter": "python",
   "pygments_lexer": "ipython3",
   "version": "3.7.1"
  }
 },
 "nbformat": 4,
 "nbformat_minor": 2
}
