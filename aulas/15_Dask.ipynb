{
  "nbformat": 4,
  "nbformat_minor": 0,
  "metadata": {
    "orig_nbformat": 2,
    "colab": {
      "name": "15_Dask.ipynb",
      "provenance": [],
      "include_colab_link": true
    },
    "language_info": {
      "name": "python"
    },
    "kernelspec": {
      "name": "python3",
      "display_name": "Python 3"
    }
  },
  "cells": [
    {
      "cell_type": "markdown",
      "metadata": {
        "id": "view-in-github",
        "colab_type": "text"
      },
      "source": [
        "<a href=\"https://colab.research.google.com/github/ufrpe-ensino/ic-aulas/blob/master/aulas/15_Dask.ipynb\" target=\"_parent\"><img src=\"https://colab.research.google.com/assets/colab-badge.svg\" alt=\"Open In Colab\"/></a>"
      ]
    },
    {
      "cell_type": "code",
      "metadata": {
        "id": "jhsTbXDRtGfK"
      },
      "source": [
        ""
      ],
      "execution_count": null,
      "outputs": []
    },
    {
      "cell_type": "markdown",
      "metadata": {
        "id": "hWOgv0t-tPaY"
      },
      "source": [
        "# Dask\n",
        "Como conjuntos de dados e cálculos são escalonados mais rápido do que CPUs e RAM, precisamos encontrar maneiras de escalar nossos cálculos em várias máquinas.\n",
        "\n",
        "O [Dask](https://docs.dask.org/en/latest/) fornece maneiras de dimensionar os fluxos de trabalho do Pandas, Scikit-Learn e Numpy de forma mais nativa, com o mínimo de reescrita. Ele se integra bem com essas ferramentas para que copie a maior parte de sua API e use suas estruturas de dados internamente.\n",
        "\n",
        "## Dask vs Spark\n",
        "\n",
        "O Dask é menor e mais leve do que o Spark. Isso significa que ele tem menos recursos e, em vez disso, é usado em conjunto com outras bibliotecas, especialmente aquelas no ecossistema Python numérico. \n",
        "\n",
        "O framework é escrito em Python e só realmente suporta Python (ao contrário de Spark, cuja base é feita em Scala). Ele interopera bem com C / C ++ / Fortran / LLVM ou outro código compilado nativamente vinculado por meio de Python.\n"
      ]
    },
    {
      "cell_type": "markdown",
      "metadata": {
        "id": "4zjC9FwNuUFl"
      },
      "source": [
        "## Instalando"
      ]
    },
    {
      "cell_type": "code",
      "metadata": {
        "id": "Z-ZlQnzNuJrm",
        "outputId": "aeb3f4e1-98ba-4dd1-cdb4-8dc54344e6bd",
        "colab": {
          "base_uri": "https://localhost:8080/",
          "height": 125
        }
      },
      "source": [
        "python -m pip install \"dask[complete]\"    # Install everything"
      ],
      "execution_count": 1,
      "outputs": [
        {
          "output_type": "error",
          "ename": "SyntaxError",
          "evalue": "ignored",
          "traceback": [
            "\u001b[0;36m  File \u001b[0;32m\"<ipython-input-1-18ee34e0e2c4>\"\u001b[0;36m, line \u001b[0;32m1\u001b[0m\n\u001b[0;31m    python -m pip install \"dask[complete]\"    # Install everything\u001b[0m\n\u001b[0m                ^\u001b[0m\n\u001b[0;31mSyntaxError\u001b[0m\u001b[0;31m:\u001b[0m invalid syntax\n"
          ]
        }
      ]
    },
    {
      "cell_type": "code",
      "metadata": {
        "id": "zG6AMBhfubCZ"
      },
      "source": [
        ""
      ],
      "execution_count": null,
      "outputs": []
    }
  ]
}