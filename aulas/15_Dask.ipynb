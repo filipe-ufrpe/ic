{
  "nbformat": 4,
  "nbformat_minor": 0,
  "metadata": {
    "orig_nbformat": 2,
    "colab": {
      "name": "15_Dask.ipynb",
      "provenance": [],
      "toc_visible": true,
      "include_colab_link": true
    },
    "language_info": {
      "name": "python"
    },
    "kernelspec": {
      "name": "python3",
      "display_name": "Python 3"
    }
  },
  "cells": [
    {
      "cell_type": "markdown",
      "metadata": {
        "id": "view-in-github",
        "colab_type": "text"
      },
      "source": [
        "<a href=\"https://colab.research.google.com/github/ufrpe-ensino/ic-aulas/blob/master/aulas/15_Dask.ipynb\" target=\"_parent\"><img src=\"https://colab.research.google.com/assets/colab-badge.svg\" alt=\"Open In Colab\"/></a>"
      ]
    },
    {
      "cell_type": "markdown",
      "metadata": {
        "id": "hWOgv0t-tPaY"
      },
      "source": [
        "# Dask\n",
        "\n",
        "Adaptado deste [tutorial](https://colab.research.google.com/github/dask/dask-examples/blob/main/dataframes/01-data-access.ipynb#scrollTo=gAg2OgAbX-0h)\n",
        "\n",
        "Como conjuntos de dados e cálculos são escalonados mais rápido do que CPUs e RAM, precisamos encontrar maneiras de escalar nossos cálculos em várias máquinas.\n",
        "\n",
        "O [Dask](https://docs.dask.org/en/latest/) fornece maneiras de dimensionar os fluxos de trabalho do Pandas, Scikit-Learn e Numpy de forma mais nativa, com o mínimo de reescrita. Ele se integra bem com essas ferramentas para que copie a maior parte de sua API e use suas estruturas de dados internamente.\n",
        "\n",
        "## Dask vs Spark\n",
        "\n",
        "O Dask é menor e mais leve do que o Spark. Isso significa que ele tem menos recursos e, em vez disso, é usado em conjunto com outras bibliotecas, especialmente aquelas no ecossistema Python numérico. \n",
        "\n",
        "O framework é escrito em Python e só realmente suporta Python (ao contrário de Spark, cuja base é feita em Scala). Ele interopera bem com C / C ++ / Fortran / LLVM ou outro código compilado nativamente vinculado por meio de Python.\n"
      ]
    },
    {
      "cell_type": "markdown",
      "metadata": {
        "id": "4zjC9FwNuUFl"
      },
      "source": [
        "## Instalando"
      ]
    },
    {
      "cell_type": "code",
      "metadata": {
        "colab": {
          "base_uri": "https://localhost:8080/"
        },
        "id": "Z-ZlQnzNuJrm",
        "outputId": "a7029e2d-6ab0-4c57-ec48-ebae20c515b3"
      },
      "source": [
        "!pip install \"dask[complete]\"    # Install everything\n",
        "!pip install dask distributed --upgrade"
      ],
      "execution_count": 13,
      "outputs": [
        {
          "output_type": "stream",
          "text": [
            "Requirement already satisfied: dask[complete] in /usr/local/lib/python3.7/dist-packages (2021.4.0)\n",
            "Requirement already satisfied: fsspec>=0.6.0 in /usr/local/lib/python3.7/dist-packages (from dask[complete]) (0.9.0)\n",
            "Requirement already satisfied: toolz>=0.8.2 in /usr/local/lib/python3.7/dist-packages (from dask[complete]) (0.11.1)\n",
            "Requirement already satisfied: partd>=0.3.10 in /usr/local/lib/python3.7/dist-packages (from dask[complete]) (1.2.0)\n",
            "Requirement already satisfied: pyyaml in /usr/local/lib/python3.7/dist-packages (from dask[complete]) (3.13)\n",
            "Requirement already satisfied: cloudpickle>=1.1.1 in /usr/local/lib/python3.7/dist-packages (from dask[complete]) (1.3.0)\n",
            "Requirement already satisfied: distributed>=2021.03.0; extra == \"complete\" in /usr/local/lib/python3.7/dist-packages (from dask[complete]) (2021.4.0)\n",
            "Requirement already satisfied: bokeh!=2.0.0,>=1.0.0; extra == \"complete\" in /usr/local/lib/python3.7/dist-packages (from dask[complete]) (2.3.1)\n",
            "Requirement already satisfied: numpy>=1.16; extra == \"complete\" in /usr/local/lib/python3.7/dist-packages (from dask[complete]) (1.19.5)\n",
            "Requirement already satisfied: pandas>=0.25.0; extra == \"complete\" in /usr/local/lib/python3.7/dist-packages (from dask[complete]) (1.1.5)\n",
            "Requirement already satisfied: importlib-metadata; python_version < \"3.8\" in /usr/local/lib/python3.7/dist-packages (from fsspec>=0.6.0->dask[complete]) (3.10.0)\n",
            "Requirement already satisfied: locket in /usr/local/lib/python3.7/dist-packages (from partd>=0.3.10->dask[complete]) (0.2.1)\n",
            "Requirement already satisfied: click>=6.6 in /usr/local/lib/python3.7/dist-packages (from distributed>=2021.03.0; extra == \"complete\"->dask[complete]) (7.1.2)\n",
            "Requirement already satisfied: sortedcontainers!=2.0.0,!=2.0.1 in /usr/local/lib/python3.7/dist-packages (from distributed>=2021.03.0; extra == \"complete\"->dask[complete]) (2.3.0)\n",
            "Requirement already satisfied: zict>=0.1.3 in /usr/local/lib/python3.7/dist-packages (from distributed>=2021.03.0; extra == \"complete\"->dask[complete]) (2.0.0)\n",
            "Requirement already satisfied: msgpack>=0.6.0 in /usr/local/lib/python3.7/dist-packages (from distributed>=2021.03.0; extra == \"complete\"->dask[complete]) (1.0.2)\n",
            "Requirement already satisfied: tornado>=5; python_version < \"3.8\" in /usr/local/lib/python3.7/dist-packages (from distributed>=2021.03.0; extra == \"complete\"->dask[complete]) (5.1.1)\n",
            "Requirement already satisfied: psutil>=5.0 in /usr/local/lib/python3.7/dist-packages (from distributed>=2021.03.0; extra == \"complete\"->dask[complete]) (5.4.8)\n",
            "Requirement already satisfied: tblib>=1.6.0 in /usr/local/lib/python3.7/dist-packages (from distributed>=2021.03.0; extra == \"complete\"->dask[complete]) (1.7.0)\n",
            "Requirement already satisfied: setuptools in /usr/local/lib/python3.7/dist-packages (from distributed>=2021.03.0; extra == \"complete\"->dask[complete]) (54.2.0)\n",
            "Requirement already satisfied: typing-extensions>=3.7.4 in /usr/local/lib/python3.7/dist-packages (from bokeh!=2.0.0,>=1.0.0; extra == \"complete\"->dask[complete]) (3.7.4.3)\n",
            "Requirement already satisfied: Jinja2>=2.7 in /usr/local/lib/python3.7/dist-packages (from bokeh!=2.0.0,>=1.0.0; extra == \"complete\"->dask[complete]) (2.11.3)\n",
            "Requirement already satisfied: pillow>=7.1.0 in /usr/local/lib/python3.7/dist-packages (from bokeh!=2.0.0,>=1.0.0; extra == \"complete\"->dask[complete]) (7.1.2)\n",
            "Requirement already satisfied: python-dateutil>=2.1 in /usr/local/lib/python3.7/dist-packages (from bokeh!=2.0.0,>=1.0.0; extra == \"complete\"->dask[complete]) (2.8.1)\n",
            "Requirement already satisfied: packaging>=16.8 in /usr/local/lib/python3.7/dist-packages (from bokeh!=2.0.0,>=1.0.0; extra == \"complete\"->dask[complete]) (20.9)\n",
            "Requirement already satisfied: pytz>=2017.2 in /usr/local/lib/python3.7/dist-packages (from pandas>=0.25.0; extra == \"complete\"->dask[complete]) (2018.9)\n",
            "Requirement already satisfied: zipp>=0.5 in /usr/local/lib/python3.7/dist-packages (from importlib-metadata; python_version < \"3.8\"->fsspec>=0.6.0->dask[complete]) (3.4.1)\n",
            "Requirement already satisfied: heapdict in /usr/local/lib/python3.7/dist-packages (from zict>=0.1.3->distributed>=2021.03.0; extra == \"complete\"->dask[complete]) (1.0.1)\n",
            "Requirement already satisfied: MarkupSafe>=0.23 in /usr/local/lib/python3.7/dist-packages (from Jinja2>=2.7->bokeh!=2.0.0,>=1.0.0; extra == \"complete\"->dask[complete]) (1.1.1)\n",
            "Requirement already satisfied: six>=1.5 in /usr/local/lib/python3.7/dist-packages (from python-dateutil>=2.1->bokeh!=2.0.0,>=1.0.0; extra == \"complete\"->dask[complete]) (1.15.0)\n",
            "Requirement already satisfied: pyparsing>=2.0.2 in /usr/local/lib/python3.7/dist-packages (from packaging>=16.8->bokeh!=2.0.0,>=1.0.0; extra == \"complete\"->dask[complete]) (2.4.7)\n",
            "Requirement already up-to-date: dask in /usr/local/lib/python3.7/dist-packages (2021.4.0)\n",
            "Requirement already up-to-date: distributed in /usr/local/lib/python3.7/dist-packages (2021.4.0)\n",
            "Requirement already satisfied, skipping upgrade: cloudpickle>=1.1.1 in /usr/local/lib/python3.7/dist-packages (from dask) (1.3.0)\n",
            "Requirement already satisfied, skipping upgrade: fsspec>=0.6.0 in /usr/local/lib/python3.7/dist-packages (from dask) (0.9.0)\n",
            "Requirement already satisfied, skipping upgrade: partd>=0.3.10 in /usr/local/lib/python3.7/dist-packages (from dask) (1.2.0)\n",
            "Requirement already satisfied, skipping upgrade: toolz>=0.8.2 in /usr/local/lib/python3.7/dist-packages (from dask) (0.11.1)\n",
            "Requirement already satisfied, skipping upgrade: pyyaml in /usr/local/lib/python3.7/dist-packages (from dask) (3.13)\n",
            "Requirement already satisfied, skipping upgrade: zict>=0.1.3 in /usr/local/lib/python3.7/dist-packages (from distributed) (2.0.0)\n",
            "Requirement already satisfied, skipping upgrade: setuptools in /usr/local/lib/python3.7/dist-packages (from distributed) (54.2.0)\n",
            "Requirement already satisfied, skipping upgrade: click>=6.6 in /usr/local/lib/python3.7/dist-packages (from distributed) (7.1.2)\n",
            "Requirement already satisfied, skipping upgrade: tblib>=1.6.0 in /usr/local/lib/python3.7/dist-packages (from distributed) (1.7.0)\n",
            "Requirement already satisfied, skipping upgrade: psutil>=5.0 in /usr/local/lib/python3.7/dist-packages (from distributed) (5.4.8)\n",
            "Requirement already satisfied, skipping upgrade: msgpack>=0.6.0 in /usr/local/lib/python3.7/dist-packages (from distributed) (1.0.2)\n",
            "Requirement already satisfied, skipping upgrade: tornado>=5; python_version < \"3.8\" in /usr/local/lib/python3.7/dist-packages (from distributed) (5.1.1)\n",
            "Requirement already satisfied, skipping upgrade: sortedcontainers!=2.0.0,!=2.0.1 in /usr/local/lib/python3.7/dist-packages (from distributed) (2.3.0)\n",
            "Requirement already satisfied, skipping upgrade: importlib-metadata; python_version < \"3.8\" in /usr/local/lib/python3.7/dist-packages (from fsspec>=0.6.0->dask) (3.10.0)\n",
            "Requirement already satisfied, skipping upgrade: locket in /usr/local/lib/python3.7/dist-packages (from partd>=0.3.10->dask) (0.2.1)\n",
            "Requirement already satisfied, skipping upgrade: heapdict in /usr/local/lib/python3.7/dist-packages (from zict>=0.1.3->distributed) (1.0.1)\n",
            "Requirement already satisfied, skipping upgrade: typing-extensions>=3.6.4; python_version < \"3.8\" in /usr/local/lib/python3.7/dist-packages (from importlib-metadata; python_version < \"3.8\"->fsspec>=0.6.0->dask) (3.7.4.3)\n",
            "Requirement already satisfied, skipping upgrade: zipp>=0.5 in /usr/local/lib/python3.7/dist-packages (from importlib-metadata; python_version < \"3.8\"->fsspec>=0.6.0->dask) (3.4.1)\n"
          ],
          "name": "stdout"
        }
      ]
    },
    {
      "cell_type": "markdown",
      "metadata": {
        "id": "i1aZFUlUusX4"
      },
      "source": [
        "## Dask Client\n",
        "\n",
        "Iniciar o Dask Client é opcional. Ele fornecerá um painel útil para obter informações sobre a computação.\n",
        "\n",
        "O link para o painel ficará visível quando você criar o cliente abaixo. Recomendamos que ele seja aberto em uma aba a parte"
      ]
    },
    {
      "cell_type": "code",
      "metadata": {
        "id": "zG6AMBhfubCZ"
      },
      "source": [
        "# Obs: não acessível via google colab\n",
        "# from dask.distributed import Client\n",
        "# client = Client(n_workers=1, threads_per_worker=4, \n",
        "#                 processes=False, memory_limit='2GB')\n",
        "# client"
      ],
      "execution_count": 14,
      "outputs": []
    },
    {
      "cell_type": "markdown",
      "metadata": {
        "id": "mNSw79vZwIsS"
      },
      "source": [
        "## Criar dataset sintético"
      ]
    },
    {
      "cell_type": "code",
      "metadata": {
        "id": "QD5fVkyUu6oy",
        "outputId": "76d22292-b9d3-4e10-88f4-3a3b6e25ac0b",
        "colab": {
          "base_uri": "https://localhost:8080/",
          "height": 231
        }
      },
      "source": [
        "import os\n",
        "import datetime\n",
        "import dask\n",
        "\n",
        "df = dask.datasets.timeseries()\n",
        "df.head()"
      ],
      "execution_count": 15,
      "outputs": [
        {
          "output_type": "execute_result",
          "data": {
            "text/html": [
              "<div>\n",
              "<style scoped>\n",
              "    .dataframe tbody tr th:only-of-type {\n",
              "        vertical-align: middle;\n",
              "    }\n",
              "\n",
              "    .dataframe tbody tr th {\n",
              "        vertical-align: top;\n",
              "    }\n",
              "\n",
              "    .dataframe thead th {\n",
              "        text-align: right;\n",
              "    }\n",
              "</style>\n",
              "<table border=\"1\" class=\"dataframe\">\n",
              "  <thead>\n",
              "    <tr style=\"text-align: right;\">\n",
              "      <th></th>\n",
              "      <th>id</th>\n",
              "      <th>name</th>\n",
              "      <th>x</th>\n",
              "      <th>y</th>\n",
              "    </tr>\n",
              "    <tr>\n",
              "      <th>timestamp</th>\n",
              "      <th></th>\n",
              "      <th></th>\n",
              "      <th></th>\n",
              "      <th></th>\n",
              "    </tr>\n",
              "  </thead>\n",
              "  <tbody>\n",
              "    <tr>\n",
              "      <th>2000-01-01 00:00:00</th>\n",
              "      <td>982</td>\n",
              "      <td>Frank</td>\n",
              "      <td>0.372798</td>\n",
              "      <td>-0.671421</td>\n",
              "    </tr>\n",
              "    <tr>\n",
              "      <th>2000-01-01 00:00:01</th>\n",
              "      <td>1030</td>\n",
              "      <td>Zelda</td>\n",
              "      <td>-0.265306</td>\n",
              "      <td>0.282275</td>\n",
              "    </tr>\n",
              "    <tr>\n",
              "      <th>2000-01-01 00:00:02</th>\n",
              "      <td>1023</td>\n",
              "      <td>Alice</td>\n",
              "      <td>-0.706730</td>\n",
              "      <td>0.832769</td>\n",
              "    </tr>\n",
              "    <tr>\n",
              "      <th>2000-01-01 00:00:03</th>\n",
              "      <td>1001</td>\n",
              "      <td>Patricia</td>\n",
              "      <td>-0.987020</td>\n",
              "      <td>-0.687230</td>\n",
              "    </tr>\n",
              "    <tr>\n",
              "      <th>2000-01-01 00:00:04</th>\n",
              "      <td>986</td>\n",
              "      <td>Dan</td>\n",
              "      <td>-0.138893</td>\n",
              "      <td>-0.305021</td>\n",
              "    </tr>\n",
              "  </tbody>\n",
              "</table>\n",
              "</div>"
            ],
            "text/plain": [
              "                       id      name         x         y\n",
              "timestamp                                              \n",
              "2000-01-01 00:00:00   982     Frank  0.372798 -0.671421\n",
              "2000-01-01 00:00:01  1030     Zelda -0.265306  0.282275\n",
              "2000-01-01 00:00:02  1023     Alice -0.706730  0.832769\n",
              "2000-01-01 00:00:03  1001  Patricia -0.987020 -0.687230\n",
              "2000-01-01 00:00:04   986       Dan -0.138893 -0.305021"
            ]
          },
          "metadata": {
            "tags": []
          },
          "execution_count": 15
        }
      ]
    },
    {
      "cell_type": "code",
      "metadata": {
        "id": "s6ROoLM86ogp",
        "outputId": "fe438fe0-0dc8-4c81-bb7b-9d2fff77a6a3",
        "colab": {
          "base_uri": "https://localhost:8080/",
          "height": 231
        }
      },
      "source": [
        "df.tail()"
      ],
      "execution_count": 16,
      "outputs": [
        {
          "output_type": "execute_result",
          "data": {
            "text/html": [
              "<div>\n",
              "<style scoped>\n",
              "    .dataframe tbody tr th:only-of-type {\n",
              "        vertical-align: middle;\n",
              "    }\n",
              "\n",
              "    .dataframe tbody tr th {\n",
              "        vertical-align: top;\n",
              "    }\n",
              "\n",
              "    .dataframe thead th {\n",
              "        text-align: right;\n",
              "    }\n",
              "</style>\n",
              "<table border=\"1\" class=\"dataframe\">\n",
              "  <thead>\n",
              "    <tr style=\"text-align: right;\">\n",
              "      <th></th>\n",
              "      <th>id</th>\n",
              "      <th>name</th>\n",
              "      <th>x</th>\n",
              "      <th>y</th>\n",
              "    </tr>\n",
              "    <tr>\n",
              "      <th>timestamp</th>\n",
              "      <th></th>\n",
              "      <th></th>\n",
              "      <th></th>\n",
              "      <th></th>\n",
              "    </tr>\n",
              "  </thead>\n",
              "  <tbody>\n",
              "    <tr>\n",
              "      <th>2000-01-30 23:59:55</th>\n",
              "      <td>995</td>\n",
              "      <td>Ursula</td>\n",
              "      <td>-0.155304</td>\n",
              "      <td>-0.431605</td>\n",
              "    </tr>\n",
              "    <tr>\n",
              "      <th>2000-01-30 23:59:56</th>\n",
              "      <td>963</td>\n",
              "      <td>Zelda</td>\n",
              "      <td>-0.390994</td>\n",
              "      <td>0.485158</td>\n",
              "    </tr>\n",
              "    <tr>\n",
              "      <th>2000-01-30 23:59:57</th>\n",
              "      <td>998</td>\n",
              "      <td>Bob</td>\n",
              "      <td>-0.922478</td>\n",
              "      <td>-0.450349</td>\n",
              "    </tr>\n",
              "    <tr>\n",
              "      <th>2000-01-30 23:59:58</th>\n",
              "      <td>1025</td>\n",
              "      <td>Zelda</td>\n",
              "      <td>-0.357398</td>\n",
              "      <td>-0.888040</td>\n",
              "    </tr>\n",
              "    <tr>\n",
              "      <th>2000-01-30 23:59:59</th>\n",
              "      <td>960</td>\n",
              "      <td>Oliver</td>\n",
              "      <td>-0.309276</td>\n",
              "      <td>0.559729</td>\n",
              "    </tr>\n",
              "  </tbody>\n",
              "</table>\n",
              "</div>"
            ],
            "text/plain": [
              "                       id    name         x         y\n",
              "timestamp                                            \n",
              "2000-01-30 23:59:55   995  Ursula -0.155304 -0.431605\n",
              "2000-01-30 23:59:56   963   Zelda -0.390994  0.485158\n",
              "2000-01-30 23:59:57   998     Bob -0.922478 -0.450349\n",
              "2000-01-30 23:59:58  1025   Zelda -0.357398 -0.888040\n",
              "2000-01-30 23:59:59   960  Oliver -0.309276  0.559729"
            ]
          },
          "metadata": {
            "tags": []
          },
          "execution_count": 16
        }
      ]
    },
    {
      "cell_type": "code",
      "metadata": {
        "id": "oMd0boS16mKV"
      },
      "source": [
        "\n",
        "if not os.path.exists('data'):\n",
        "    os.mkdir('data')\n",
        "\n",
        "def name(i):\n",
        "    \"\"\" Provide date for filename given index\n",
        "    \n",
        "    Examples\n",
        "    --------\n",
        "    >>> name(0)\n",
        "    '2000-01-01'\n",
        "    >>> name(10)\n",
        "    '2000-01-11'\n",
        "    \"\"\"\n",
        "    return str(datetime.date(2000, 1, 1) + i * datetime.timedelta(days=1))\n",
        "    \n",
        "df.to_csv('data/*.csv', name_function=name);"
      ],
      "execution_count": 17,
      "outputs": []
    },
    {
      "cell_type": "code",
      "metadata": {
        "id": "S2KoymHwv1fe",
        "colab": {
          "base_uri": "https://localhost:8080/"
        },
        "outputId": "c4f7a0c0-b82d-43f2-da6b-abccf78ec05a"
      },
      "source": [
        "!ls data/*.csv | head"
      ],
      "execution_count": 18,
      "outputs": [
        {
          "output_type": "stream",
          "text": [
            "data/2000-01-01.csv\n",
            "data/2000-01-02.csv\n",
            "data/2000-01-03.csv\n",
            "data/2000-01-04.csv\n",
            "data/2000-01-05.csv\n",
            "data/2000-01-06.csv\n",
            "data/2000-01-07.csv\n",
            "data/2000-01-08.csv\n",
            "data/2000-01-09.csv\n",
            "data/2000-01-10.csv\n"
          ],
          "name": "stdout"
        }
      ]
    },
    {
      "cell_type": "code",
      "metadata": {
        "id": "VjGMxP2qwc33",
        "colab": {
          "base_uri": "https://localhost:8080/"
        },
        "outputId": "37712eba-f10d-4511-be1c-da03d7752edf"
      },
      "source": [
        "!head data/2000-01-01.csv"
      ],
      "execution_count": 19,
      "outputs": [
        {
          "output_type": "stream",
          "text": [
            "timestamp,id,name,x,y\n",
            "2000-01-01 00:00:00,982,Frank,0.37279827235717056,-0.6714212255522889\n",
            "2000-01-01 00:00:01,1030,Zelda,-0.26530616867534285,0.2822752724887949\n",
            "2000-01-01 00:00:02,1023,Alice,-0.7067303321390788,0.832768637714254\n",
            "2000-01-01 00:00:03,1001,Patricia,-0.9870202387565903,-0.6872295813292968\n",
            "2000-01-01 00:00:04,986,Dan,-0.13889310641262664,-0.305020666519799\n",
            "2000-01-01 00:00:05,962,Wendy,0.4659816575664466,-0.11166972686196552\n",
            "2000-01-01 00:00:06,1019,Michael,0.7298711473135215,0.836366540355163\n",
            "2000-01-01 00:00:07,1010,Alice,-0.4845917994009965,0.4769086053244449\n",
            "2000-01-01 00:00:08,999,Ray,0.7312452870485233,0.3129597989115833\n"
          ],
          "name": "stdout"
        }
      ]
    },
    {
      "cell_type": "markdown",
      "metadata": {
        "id": "8PFPGS_wwUXv"
      },
      "source": [
        "## Lendo múltiplos arquivos em um único dataframe"
      ]
    },
    {
      "cell_type": "code",
      "metadata": {
        "id": "OTNayl2YwQ_6",
        "colab": {
          "base_uri": "https://localhost:8080/",
          "height": 201
        },
        "outputId": "8b555a01-8750-4c45-b32d-c347d45ac619"
      },
      "source": [
        "import dask.dataframe as dd\n",
        "\n",
        "df = dd.read_csv('data/2000-*-*.csv')\n",
        "df.head()"
      ],
      "execution_count": 20,
      "outputs": [
        {
          "output_type": "execute_result",
          "data": {
            "text/html": [
              "<div>\n",
              "<style scoped>\n",
              "    .dataframe tbody tr th:only-of-type {\n",
              "        vertical-align: middle;\n",
              "    }\n",
              "\n",
              "    .dataframe tbody tr th {\n",
              "        vertical-align: top;\n",
              "    }\n",
              "\n",
              "    .dataframe thead th {\n",
              "        text-align: right;\n",
              "    }\n",
              "</style>\n",
              "<table border=\"1\" class=\"dataframe\">\n",
              "  <thead>\n",
              "    <tr style=\"text-align: right;\">\n",
              "      <th></th>\n",
              "      <th>timestamp</th>\n",
              "      <th>id</th>\n",
              "      <th>name</th>\n",
              "      <th>x</th>\n",
              "      <th>y</th>\n",
              "    </tr>\n",
              "  </thead>\n",
              "  <tbody>\n",
              "    <tr>\n",
              "      <th>0</th>\n",
              "      <td>2000-01-01 00:00:00</td>\n",
              "      <td>982</td>\n",
              "      <td>Frank</td>\n",
              "      <td>0.372798</td>\n",
              "      <td>-0.671421</td>\n",
              "    </tr>\n",
              "    <tr>\n",
              "      <th>1</th>\n",
              "      <td>2000-01-01 00:00:01</td>\n",
              "      <td>1030</td>\n",
              "      <td>Zelda</td>\n",
              "      <td>-0.265306</td>\n",
              "      <td>0.282275</td>\n",
              "    </tr>\n",
              "    <tr>\n",
              "      <th>2</th>\n",
              "      <td>2000-01-01 00:00:02</td>\n",
              "      <td>1023</td>\n",
              "      <td>Alice</td>\n",
              "      <td>-0.706730</td>\n",
              "      <td>0.832769</td>\n",
              "    </tr>\n",
              "    <tr>\n",
              "      <th>3</th>\n",
              "      <td>2000-01-01 00:00:03</td>\n",
              "      <td>1001</td>\n",
              "      <td>Patricia</td>\n",
              "      <td>-0.987020</td>\n",
              "      <td>-0.687230</td>\n",
              "    </tr>\n",
              "    <tr>\n",
              "      <th>4</th>\n",
              "      <td>2000-01-01 00:00:04</td>\n",
              "      <td>986</td>\n",
              "      <td>Dan</td>\n",
              "      <td>-0.138893</td>\n",
              "      <td>-0.305021</td>\n",
              "    </tr>\n",
              "  </tbody>\n",
              "</table>\n",
              "</div>"
            ],
            "text/plain": [
              "             timestamp    id      name         x         y\n",
              "0  2000-01-01 00:00:00   982     Frank  0.372798 -0.671421\n",
              "1  2000-01-01 00:00:01  1030     Zelda -0.265306  0.282275\n",
              "2  2000-01-01 00:00:02  1023     Alice -0.706730  0.832769\n",
              "3  2000-01-01 00:00:03  1001  Patricia -0.987020 -0.687230\n",
              "4  2000-01-01 00:00:04   986       Dan -0.138893 -0.305021"
            ]
          },
          "metadata": {
            "tags": []
          },
          "execution_count": 20
        }
      ]
    },
    {
      "cell_type": "markdown",
      "metadata": {
        "id": "zt0jz45S1Qpc"
      },
      "source": [
        "# Salvando em parquet"
      ]
    },
    {
      "cell_type": "code",
      "metadata": {
        "id": "1_JXP7M8wYhe"
      },
      "source": [
        "df.to_parquet('data/2000-01.parquet', engine='pyarrow')"
      ],
      "execution_count": 21,
      "outputs": []
    },
    {
      "cell_type": "markdown",
      "metadata": {
        "id": "87K1dCBy33Nv"
      },
      "source": [
        "### Partitioning"
      ]
    },
    {
      "cell_type": "code",
      "metadata": {
        "id": "aFzTTvzo1TaC",
        "outputId": "4c9adc22-e2e1-4c84-c511-0b29e9bf0c8d",
        "colab": {
          "base_uri": "https://localhost:8080/",
          "height": 201
        }
      },
      "source": [
        "df['year-month-day'] = dd.to_datetime(df['timestamp']).dt.strftime('%Y-%m-%d')\n",
        "df.head()"
      ],
      "execution_count": 22,
      "outputs": [
        {
          "output_type": "execute_result",
          "data": {
            "text/html": [
              "<div>\n",
              "<style scoped>\n",
              "    .dataframe tbody tr th:only-of-type {\n",
              "        vertical-align: middle;\n",
              "    }\n",
              "\n",
              "    .dataframe tbody tr th {\n",
              "        vertical-align: top;\n",
              "    }\n",
              "\n",
              "    .dataframe thead th {\n",
              "        text-align: right;\n",
              "    }\n",
              "</style>\n",
              "<table border=\"1\" class=\"dataframe\">\n",
              "  <thead>\n",
              "    <tr style=\"text-align: right;\">\n",
              "      <th></th>\n",
              "      <th>timestamp</th>\n",
              "      <th>id</th>\n",
              "      <th>name</th>\n",
              "      <th>x</th>\n",
              "      <th>y</th>\n",
              "      <th>year-month-day</th>\n",
              "    </tr>\n",
              "  </thead>\n",
              "  <tbody>\n",
              "    <tr>\n",
              "      <th>0</th>\n",
              "      <td>2000-01-01 00:00:00</td>\n",
              "      <td>982</td>\n",
              "      <td>Frank</td>\n",
              "      <td>0.372798</td>\n",
              "      <td>-0.671421</td>\n",
              "      <td>2000-01-01</td>\n",
              "    </tr>\n",
              "    <tr>\n",
              "      <th>1</th>\n",
              "      <td>2000-01-01 00:00:01</td>\n",
              "      <td>1030</td>\n",
              "      <td>Zelda</td>\n",
              "      <td>-0.265306</td>\n",
              "      <td>0.282275</td>\n",
              "      <td>2000-01-01</td>\n",
              "    </tr>\n",
              "    <tr>\n",
              "      <th>2</th>\n",
              "      <td>2000-01-01 00:00:02</td>\n",
              "      <td>1023</td>\n",
              "      <td>Alice</td>\n",
              "      <td>-0.706730</td>\n",
              "      <td>0.832769</td>\n",
              "      <td>2000-01-01</td>\n",
              "    </tr>\n",
              "    <tr>\n",
              "      <th>3</th>\n",
              "      <td>2000-01-01 00:00:03</td>\n",
              "      <td>1001</td>\n",
              "      <td>Patricia</td>\n",
              "      <td>-0.987020</td>\n",
              "      <td>-0.687230</td>\n",
              "      <td>2000-01-01</td>\n",
              "    </tr>\n",
              "    <tr>\n",
              "      <th>4</th>\n",
              "      <td>2000-01-01 00:00:04</td>\n",
              "      <td>986</td>\n",
              "      <td>Dan</td>\n",
              "      <td>-0.138893</td>\n",
              "      <td>-0.305021</td>\n",
              "      <td>2000-01-01</td>\n",
              "    </tr>\n",
              "  </tbody>\n",
              "</table>\n",
              "</div>"
            ],
            "text/plain": [
              "             timestamp    id      name         x         y year-month-day\n",
              "0  2000-01-01 00:00:00   982     Frank  0.372798 -0.671421     2000-01-01\n",
              "1  2000-01-01 00:00:01  1030     Zelda -0.265306  0.282275     2000-01-01\n",
              "2  2000-01-01 00:00:02  1023     Alice -0.706730  0.832769     2000-01-01\n",
              "3  2000-01-01 00:00:03  1001  Patricia -0.987020 -0.687230     2000-01-01\n",
              "4  2000-01-01 00:00:04   986       Dan -0.138893 -0.305021     2000-01-01"
            ]
          },
          "metadata": {
            "tags": []
          },
          "execution_count": 22
        }
      ]
    },
    {
      "cell_type": "code",
      "metadata": {
        "id": "2anpy0IR23Ri"
      },
      "source": [
        "df.to_parquet('data/mydata.parquet', engine='pyarrow',\n",
        "              partition_on=['year-month-day'])"
      ],
      "execution_count": 24,
      "outputs": []
    }
  ]
}