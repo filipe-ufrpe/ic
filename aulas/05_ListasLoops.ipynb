{
  "nbformat": 4,
  "nbformat_minor": 0,
  "metadata": {
    "kernelspec": {
      "display_name": "Python 3",
      "language": "python",
      "name": "python3"
    },
    "language_info": {
      "codemirror_mode": {
        "name": "ipython",
        "version": 3
      },
      "file_extension": ".py",
      "mimetype": "text/x-python",
      "name": "python",
      "nbconvert_exporter": "python",
      "pygments_lexer": "ipython3",
      "version": "3.6.0"
    },
    "toc": {
      "base_numbering": 1,
      "nav_menu": {},
      "number_sections": true,
      "sideBar": true,
      "skip_h1_title": false,
      "title_cell": "Table of Contents",
      "title_sidebar": "Contents",
      "toc_cell": false,
      "toc_position": {},
      "toc_section_display": true,
      "toc_window_display": false
    },
    "varInspector": {
      "cols": {
        "lenName": 16,
        "lenType": 16,
        "lenVar": 40
      },
      "kernels_config": {
        "python": {
          "delete_cmd_postfix": "",
          "delete_cmd_prefix": "del ",
          "library": "var_list.py",
          "varRefreshCmd": "print(var_dic_list())"
        },
        "r": {
          "delete_cmd_postfix": ") ",
          "delete_cmd_prefix": "rm(",
          "library": "var_list.r",
          "varRefreshCmd": "cat(var_dic_list()) "
        }
      },
      "types_to_exclude": [
        "module",
        "function",
        "builtin_function_or_method",
        "instance",
        "_Feature"
      ],
      "window_display": false
    },
    "colab": {
      "name": "05_ListasLoops.ipynb",
      "version": "0.3.2",
      "provenance": [],
      "include_colab_link": true
    }
  },
  "cells": [
    {
      "cell_type": "markdown",
      "metadata": {
        "id": "view-in-github",
        "colab_type": "text"
      },
      "source": [
        "<a href=\"https://colab.research.google.com/github/ufrpe-ensino/ic-aulas/blob/master/aulas/05_ListasLoops.ipynb\" target=\"_parent\"><img src=\"https://colab.research.google.com/assets/colab-badge.svg\" alt=\"Open In Colab\"/></a>"
      ]
    },
    {
      "cell_type": "markdown",
      "metadata": {
        "id": "aXIEOy6TLbXs",
        "colab_type": "text"
      },
      "source": [
        "# Soma\n",
        "Podemos obter a soma dos elementos de uma lista de números chamando a função sum()"
      ]
    },
    {
      "cell_type": "code",
      "metadata": {
        "id": "wXCknkpcLbXt",
        "colab_type": "code",
        "colab": {}
      },
      "source": [
        "temperaturas  = [35, 37.8, 40, 39.8]\n",
        "sum(temperaturas)"
      ],
      "execution_count": 0,
      "outputs": []
    },
    {
      "cell_type": "markdown",
      "metadata": {
        "id": "GpUwrfLoLbXw",
        "colab_type": "text"
      },
      "source": [
        "# min e max da lista\n",
        "\n",
        "- max(): O método max retorna o elemento da lista com o valor máximo.\n",
        "- min(): O método min retorna o elemento da lista com o valor mínimo."
      ]
    },
    {
      "cell_type": "code",
      "metadata": {
        "scrolled": true,
        "id": "xj21X0LILbXx",
        "colab_type": "code",
        "colab": {}
      },
      "source": [
        "temperaturas  = [35, 37.8, 40, 39.8]\n",
        "min(temperaturas)"
      ],
      "execution_count": 0,
      "outputs": []
    },
    {
      "cell_type": "code",
      "metadata": {
        "scrolled": true,
        "id": "rmRir4sALbX0",
        "colab_type": "code",
        "colab": {}
      },
      "source": [
        "max(temperaturas)"
      ],
      "execution_count": 0,
      "outputs": []
    },
    {
      "cell_type": "markdown",
      "metadata": {
        "id": "_U4JW7nhLbX3",
        "colab_type": "text"
      },
      "source": [
        "# range\n",
        "A função range(n) gera uma lista de números inteiros de 0 a n-1. Para obter a lista propriamente dita, usar a função list() também"
      ]
    },
    {
      "cell_type": "code",
      "metadata": {
        "id": "uUbZ3IHoLbX3",
        "colab_type": "code",
        "colab": {}
      },
      "source": [
        "list(range(3))"
      ],
      "execution_count": 0,
      "outputs": []
    },
    {
      "cell_type": "markdown",
      "metadata": {
        "id": "t4MOEdV5LbX6",
        "colab_type": "text"
      },
      "source": [
        "# Laço for (loops)\n",
        "Laços (*loops*) são uma das estruturas fundamentais na programação. Os loops permitem que você faça uma iteração sobre cada elemento em uma sequência, um de cada vez, e faça algo com esses elementos.\n",
        "\n",
        "*Sintaxe do loop*: os loops têm uma sintaxe muito particular no Python; Essa sintaxe é um dos recursos mais notáveis para os recém-chegados ao Python:\n",
        "```\n",
        "for *elemento* in *sequencia*: # NOTE os dois pontos no final\n",
        "    <algum código que usa *elemento*> # o bloco de código que está em loop para cada elemento\n",
        "    <mais código que usa o *elemento*> # é recuado com TAB\n",
        "\n",
        "<o código depois que o loop continua> # o final do loop é marcado simplesmente por código não-indentado\n",
        "``` \n",
        "\n",
        "Assim, o recuo (tab) é MUITO importante para o código. Isso foi feito porque uma boa prática de codificação (em quase todas as linguagens, C, FORTRAN, MATLAB) geralmente identa loops, funções, etc. Ter um recuo significativo economiza a sintaxe de loop para um código mais compacto.\n",
        "\n",
        "A maioria dos editores de texto de programação será inteligente sobre recuo e também converterá TABs em quatro espaços. Os notebooks Jupyter são inteligentes quanto a recuo e farão a coisa certa, ou seja, identificar automaticamente uma linha abaixo de uma linha com dois pontos, e converter TABs em espaços. Se você estiver em outro editor, lembre-se: TABS E ESPAÇOS NÃO MISTURAM. \n",
        "\n",
        "**Exemplo:**\n",
        "\n",
        "Percorrer uma lista de temperaturas e mostrar a diferença entre cada valor e a temperatura média:"
      ]
    },
    {
      "cell_type": "code",
      "metadata": {
        "id": "QF3DHX9sLbX7",
        "colab_type": "code",
        "colab": {}
      },
      "source": [
        "temperaturas  = [35, 37.8, 40, 39.8]\n",
        "\n",
        "temp_media = sum(temperaturas) / len(temperaturas)\n",
        "print('temperatura média: ', temp_media)\n",
        "for t in temperaturas:\n",
        "    print('Diferença:', t - temp_media)\n"
      ],
      "execution_count": 0,
      "outputs": []
    },
    {
      "cell_type": "markdown",
      "metadata": {
        "id": "TkhRyv1ALbX9",
        "colab_type": "text"
      },
      "source": [
        "## Exercício 1\n",
        "\n",
        "Modifique o exemplo anterior para informar 'MAIS QUENTE QUE A MÉDIA' ou 'MAIS FRIO QUE A MÉDIA' de acordo com o valor da diferença entre a temperatura e a média."
      ]
    },
    {
      "cell_type": "code",
      "metadata": {
        "id": "mvzKDKPELbX9",
        "colab_type": "code",
        "colab": {}
      },
      "source": [
        ""
      ],
      "execution_count": 0,
      "outputs": []
    },
    {
      "cell_type": "markdown",
      "metadata": {
        "id": "MlJ21GyKL1ul",
        "colab_type": "text"
      },
      "source": [
        "## Exercício 2\n",
        "Sejam as listas abaixo referentes aos nomes de alunos e suas respectivas notas do 1º, 2º e 3º VA's. Crie um programa que calcule a média de cada aluno, e imprima o seu nome, a média calculada e o status, 'APROVADO' caso a média seja maior ou igual a 7,0 (sete) e 'REPROVADO' caso contrário."
      ]
    },
    {
      "cell_type": "code",
      "metadata": {
        "id": "xQROS9M7LbYA",
        "colab_type": "code",
        "colab": {}
      },
      "source": [
        "notas_alunos = [['Zezé di Camargo', 4.5, 8, 9.5],\n",
        "                ['Gretchen Babado', 6, 7.5, 4],\n",
        "                ['Luan Santana', 7.5, 5.8, 9.5],\n",
        "                ['Pablo Vittar', 4.5, 8.7, 6],\n",
        "                ['Joelma Calypso', 10, 7.8, 9.5],\n",
        "                ['Conde do Brega', 9.8, 8, 9.5]]\n",
        "\n",
        "# sua resposta aqui\n"
      ],
      "execution_count": 0,
      "outputs": []
    },
    {
      "cell_type": "markdown",
      "metadata": {
        "id": "qjby663XN_lx",
        "colab_type": "text"
      },
      "source": [
        "## Exercício 3\n",
        "Seja a função matemática definida abaixo:\n",
        "$$f(n) = n^2+1$$\n",
        "Escreva um programa em python, que calcule o valor de f(n) para todos os números no intervalo `[0,100]`, e armazene todos os valores calculados em uma lista"
      ]
    },
    {
      "cell_type": "code",
      "metadata": {
        "id": "WzpIjng3NliK",
        "colab_type": "code",
        "colab": {}
      },
      "source": [
        "# seu código aqui\n"
      ],
      "execution_count": 0,
      "outputs": []
    },
    {
      "cell_type": "code",
      "metadata": {
        "id": "3e3prnvmN96j",
        "colab_type": "code",
        "colab": {}
      },
      "source": [
        "v1 = [4, 6.7, 9, 10, 0.1]\n",
        "v2 = [0.4, 2.6, 5, 8, 21]\n",
        "\n",
        "# seu codigo aqui"
      ],
      "execution_count": 0,
      "outputs": []
    },
    {
      "cell_type": "markdown",
      "metadata": {
        "id": "pzLlPr0FPiee",
        "colab_type": "text"
      },
      "source": [
        "## Exercício 4\n",
        "Escreva um programa em python que imprima na tela todos os números ímpares de 0 a 1000."
      ]
    },
    {
      "cell_type": "code",
      "metadata": {
        "id": "QSa3Q-JbN96m",
        "colab_type": "code",
        "colab": {}
      },
      "source": [
        "# seu codigo aqui\n"
      ],
      "execution_count": 0,
      "outputs": []
    }
  ]
}