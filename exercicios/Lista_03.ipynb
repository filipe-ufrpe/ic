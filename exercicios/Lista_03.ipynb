{
 "cells": [
  {
   "cell_type": "markdown",
   "metadata": {
    "colab_type": "text",
    "id": "view-in-github"
   },
   "source": [
    "<a href=\"https://colab.research.google.com/github/ufrpe-ensino/ic-aulas/blob/master/exercicios/Lista_03.ipynb\" target=\"_parent\"><img src=\"https://colab.research.google.com/assets/colab-badge.svg\" alt=\"Open In Colab\"/></a>"
   ]
  },
  {
   "cell_type": "markdown",
   "metadata": {
    "colab_type": "text",
    "id": "2Te_e2g4N96Z"
   },
   "source": [
    "# Exercícios: Listas"
   ]
  },
  {
   "cell_type": "markdown",
   "metadata": {
    "colab_type": "text",
    "id": "hYk3NA3MN96b"
   },
   "source": [
    "## Questão 1\n",
    "Dada a lista abaixo, contendo as notas de um aluno, escreva um programa que calcule a média do aluno e imprima na tela"
   ]
  },
  {
   "cell_type": "code",
   "execution_count": 0,
   "metadata": {
    "colab": {},
    "colab_type": "code",
    "id": "gMPCo3WGN96c"
   },
   "outputs": [],
   "source": [
    "notas = [4.0, 8.4, 7.9]\n",
    "\n",
    "# seu codigo aqui"
   ]
  },
  {
   "cell_type": "markdown",
   "metadata": {
    "colab_type": "text",
    "id": "0JZprVMxN96h"
   },
   "source": [
    "## Questão 2\n",
    "Faça um programa que leia um número indeterminado de valores, correspondentes a notas, encerrando a entrada de dados quando for informado um valor igual a -1 (que não deve ser armazenado). Após esta entrada de dados, faça:\n",
    "\n",
    "- Mostre a quantidade de valores que foram lidos;\n",
    "- Exiba todos os valores na ordem em que foram informados, um ao lado do outro;\n",
    "- Calcule e mostre a soma dos valores;\n",
    "- Calcule e mostre a média dos valores"
   ]
  },
  {
   "cell_type": "markdown",
   "metadata": {
    "colab_type": "text",
    "id": "LednoeKiN96i"
   },
   "source": [
    "## Questão 3\n",
    "Dadas as duas listas abaixo, representando dois vetores, faça um programa que calcule o vetor resultante da soma dos dois vetores."
   ]
  },
  {
   "cell_type": "code",
   "execution_count": 0,
   "metadata": {
    "colab": {},
    "colab_type": "code",
    "id": "3e3prnvmN96j"
   },
   "outputs": [],
   "source": [
    "v1 = [4, 6.7, 9, 10, 0.1]\n",
    "v2 = [0.4, 2.6, 5, 8, 21]\n",
    "\n",
    "# seu codigo aqui"
   ]
  },
  {
   "cell_type": "markdown",
   "metadata": {
    "colab_type": "text",
    "id": "pzLlPr0FPiee"
   },
   "source": [
    "## Questão 4\n",
    "Escreva um programa em python que receba como entrada dois inteiros, `m` (linhas) e `n` (colunas) e gere uma uma matriz de modo que o valor da $i$-ésima linha e da $j$-ésima coluna da matriz seja $i*j$, onde $0 \\leq i < n$ e $0 \\leq j < m$\n",
    "```\n",
    "Dados: LINHAS = 3, COLUNAS = 4 \n",
    "Resultado : [[0, 0, 0, 0], [0, 1, 2, 3], [0, 2, 4, 6]]\n",
    "```"
   ]
  },
  {
   "cell_type": "code",
   "execution_count": 0,
   "metadata": {
    "colab": {},
    "colab_type": "code",
    "id": "QSa3Q-JbN96m"
   },
   "outputs": [],
   "source": []
  },
  {
   "cell_type": "code",
   "execution_count": 0,
   "metadata": {
    "colab": {},
    "colab_type": "code",
    "id": "a7d_8T1nPwiv"
   },
   "outputs": [],
   "source": []
  }
 ],
 "metadata": {
  "colab": {
   "include_colab_link": true,
   "name": "Lista_03.ipynb",
   "provenance": [],
   "version": "0.3.2"
  },
  "kernelspec": {
   "display_name": "Python 3",
   "language": "python",
   "name": "python3"
  },
  "language_info": {
   "codemirror_mode": {
    "name": "ipython",
    "version": 3
   },
   "file_extension": ".py",
   "mimetype": "text/x-python",
   "name": "python",
   "nbconvert_exporter": "python",
   "pygments_lexer": "ipython3",
   "version": "3.7.1"
  }
 },
 "nbformat": 4,
 "nbformat_minor": 1
}
