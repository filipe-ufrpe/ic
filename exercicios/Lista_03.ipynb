{
  "nbformat": 4,
  "nbformat_minor": 0,
  "metadata": {
    "kernelspec": {
      "display_name": "Python 3",
      "language": "python",
      "name": "python3"
    },
    "language_info": {
      "codemirror_mode": {
        "name": "ipython",
        "version": 3
      },
      "file_extension": ".py",
      "mimetype": "text/x-python",
      "name": "python",
      "nbconvert_exporter": "python",
      "pygments_lexer": "ipython3",
      "version": "3.7.3"
    },
    "colab": {
      "name": "Lista_03.ipynb",
      "version": "0.3.2",
      "provenance": [],
      "include_colab_link": true
    }
  },
  "cells": [
    {
      "cell_type": "markdown",
      "metadata": {
        "id": "view-in-github",
        "colab_type": "text"
      },
      "source": [
        "<a href=\"https://colab.research.google.com/github/ufrpe-ensino/ic-aulas/blob/master/exercicios/Lista_03.ipynb\" target=\"_parent\"><img src=\"https://colab.research.google.com/assets/colab-badge.svg\" alt=\"Open In Colab\"/></a>"
      ]
    },
    {
      "cell_type": "markdown",
      "metadata": {
        "id": "2Te_e2g4N96Z",
        "colab_type": "text"
      },
      "source": [
        "# Exercícios: Listas"
      ]
    },
    {
      "cell_type": "markdown",
      "metadata": {
        "id": "hYk3NA3MN96b",
        "colab_type": "text"
      },
      "source": [
        "## Questão 1\n",
        "Dada a lista abaixo, contendo as notas de um aluno, escreva um programa que calcule a média do aluno e imprima na tela"
      ]
    },
    {
      "cell_type": "code",
      "metadata": {
        "id": "gMPCo3WGN96c",
        "colab_type": "code",
        "colab": {}
      },
      "source": [
        "notas = [4.0, 8.4, 7.9]\n",
        "\n",
        "# seu codigo aqui"
      ],
      "execution_count": 0,
      "outputs": []
    },
    {
      "cell_type": "markdown",
      "metadata": {
        "id": "0JZprVMxN96h",
        "colab_type": "text"
      },
      "source": [
        "## Questão 2\n",
        "Faça um programa que leia um número indeterminado de valores, correspondentes a notas, encerrando a entrada de dados quando for informado um valor igual a -1 (que não deve ser armazenado). Após esta entrada de dados, faça:\n",
        "\n",
        "- Mostre a quantidade de valores que foram lidos;\n",
        "- Exiba todos os valores na ordem em que foram informados, um ao lado do outro;\n",
        "- Calcule e mostre a soma dos valores;\n",
        "- Calcule e mostre a média dos valores"
      ]
    },
    {
      "cell_type": "markdown",
      "metadata": {
        "id": "LednoeKiN96i",
        "colab_type": "text"
      },
      "source": [
        "## Questão 3\n",
        "Dadas as duas listas abaixo, representando dois vetores, faça um programa que calcule o vetor resultante da soma dos dois vetores."
      ]
    },
    {
      "cell_type": "code",
      "metadata": {
        "id": "3e3prnvmN96j",
        "colab_type": "code",
        "colab": {}
      },
      "source": [
        "v1 = [4, 6.7, 9, 10, 0.1]\n",
        "v2 = [0.4, 2.6, 5, 8, 21]\n",
        "\n",
        "# seu codigo aqui"
      ],
      "execution_count": 0,
      "outputs": []
    },
    {
      "cell_type": "markdown",
      "metadata": {
        "id": "pzLlPr0FPiee",
        "colab_type": "text"
      },
      "source": [
        "## Questão 4\n",
        "Escreva um programa em python que receba como entrada dois inteiros, `m` (linhas) e `n` (colunas) e gere uma uma matriz de modo que o valor da $i$-ésima linha e da $j$-ésima coluna da matriz seja $i*j$, onde $0 \\leq i < n$ e $0 \\leq j < m$\n",
        "```\n",
        "Dados: LINHAS = 3, COLUNAS = 4 \n",
        "Resultado : [[0, 0, 0, 0], [0, 1, 2, 3], [0, 2, 4, 6]]\n",
        "```"
      ]
    },
    {
      "cell_type": "code",
      "metadata": {
        "id": "QSa3Q-JbN96m",
        "colab_type": "code",
        "colab": {}
      },
      "source": [
        ""
      ],
      "execution_count": 0,
      "outputs": []
    },
    {
      "cell_type": "code",
      "metadata": {
        "id": "a7d_8T1nPwiv",
        "colab_type": "code",
        "colab": {}
      },
      "source": [
        ""
      ],
      "execution_count": 0,
      "outputs": []
    }
  ]
}