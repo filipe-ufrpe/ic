{
 "cells": [
  {
   "cell_type": "markdown",
   "metadata": {
    "colab_type": "text",
    "id": "view-in-github"
   },
   "source": [
    "<a href=\"https://colab.research.google.com/github/ufrpe-ensino/ic-aulas/blob/master/exercicios/Lista_04.ipynb\" target=\"_parent\"><img src=\"https://colab.research.google.com/assets/colab-badge.svg\" alt=\"Open In Colab\"/></a>"
   ]
  },
  {
   "cell_type": "markdown",
   "metadata": {
    "colab_type": "text",
    "id": "2Te_e2g4N96Z"
   },
   "source": [
    "# Exercícios: Dicionários e Funções"
   ]
  },
  {
   "cell_type": "markdown",
   "metadata": {
    "colab_type": "text",
    "id": "hYk3NA3MN96b"
   },
   "source": [
    "## Questão 1\n",
    "Implemente o corpo das funções abaixo, referentes às operações básicas de uma calculadora (adição, subtração, multiplicação e divisão) de dois números. Estas operações deverão ser desenvolvidas através de funções. "
   ]
  },
  {
   "cell_type": "code",
   "execution_count": null,
   "metadata": {
    "colab": {},
    "colab_type": "code",
    "id": "gMPCo3WGN96c"
   },
   "outputs": [],
   "source": [
    "def adicao(a,b):\n",
    "    # seu codigo aqui\n",
    "    \n",
    "def subtracao(a,b):\n",
    "    # seu codigo aqui\n",
    "\n",
    "def multiplicacao(a,b):\n",
    "    # seu codigo aqui\n",
    "\n",
    "def divisao(a,b):\n",
    "    # seu codigo aqui\n"
   ]
  },
  {
   "cell_type": "markdown",
   "metadata": {},
   "source": [
    "Peça ao usuário 2 números e apresente os resultados das operações.\n",
    "\n",
    "a) Adição\n",
    "b) Subtração\n",
    "c) Multiplicação\n",
    "d) Divisão"
   ]
  },
  {
   "cell_type": "code",
   "execution_count": null,
   "metadata": {},
   "outputs": [],
   "source": [
    "# seu código aqui"
   ]
  },
  {
   "cell_type": "markdown",
   "metadata": {
    "colab_type": "text",
    "id": "0JZprVMxN96h"
   },
   "source": [
    "## Questão 2\n",
    "Crie uma agenda telefônica com os seguintes telefones:\n",
    "\n",
    "Maria – 99887766<br>\n",
    "Pedro – 92345678<br>\n",
    "Joaquim – 99887711\n",
    "\n",
    "Apresente ao usuário os nomes e telefones que já estão disponíveis na agenda e pergunte se o usuário deseja:\n",
    "a) Adicionar novo contato\n",
    "b) Remover contato existente\n",
    "\n",
    "Implemente este programa utilizando dicionários em python."
   ]
  },
  {
   "cell_type": "code",
   "execution_count": null,
   "metadata": {},
   "outputs": [],
   "source": [
    "# seu código aqui"
   ]
  },
  {
   "cell_type": "markdown",
   "metadata": {
    "colab_type": "text",
    "id": "LednoeKiN96i"
   },
   "source": [
    "## Questão 3\n",
    "\n",
    "Crie uma **função**, que receba  a temperatura em graus Farenheit, transforme e retorne a temperatura em graus Celsius.\n",
    "C = (5 * (F-32) / 9)\n"
   ]
  },
  {
   "cell_type": "code",
   "execution_count": null,
   "metadata": {
    "colab": {},
    "colab_type": "code",
    "id": "3e3prnvmN96j"
   },
   "outputs": [],
   "source": [
    "# seu codigo aqui"
   ]
  },
  {
   "cell_type": "markdown",
   "metadata": {},
   "source": [
    "Chame a sua função, passando como argumento a temperatura 42°F"
   ]
  },
  {
   "cell_type": "code",
   "execution_count": null,
   "metadata": {},
   "outputs": [],
   "source": [
    "# seu codigo aqui"
   ]
  },
  {
   "cell_type": "markdown",
   "metadata": {
    "colab_type": "text",
    "id": "pzLlPr0FPiee"
   },
   "source": [
    "## Questão 4\n",
    "Escreva uma **função** que receba como entrada um número inteiro e retorne o fatorial deste número. Ex.: 5!=5.4.3.2.1=120"
   ]
  },
  {
   "cell_type": "code",
   "execution_count": null,
   "metadata": {
    "colab": {},
    "colab_type": "code",
    "id": "QSa3Q-JbN96m"
   },
   "outputs": [],
   "source": [
    "# seu codigo aqui"
   ]
  },
  {
   "cell_type": "markdown",
   "metadata": {},
   "source": [
    "Chame a sua função, passando como argumento o valor 5"
   ]
  },
  {
   "cell_type": "code",
   "execution_count": null,
   "metadata": {
    "colab": {},
    "colab_type": "code",
    "id": "a7d_8T1nPwiv"
   },
   "outputs": [],
   "source": [
    "# seu codigo aqui"
   ]
  },
  {
   "cell_type": "markdown",
   "metadata": {},
   "source": [
    "## Questão 5\n",
    "Dado o dicionário abaixo contendo os tempos de 6 corredores em uma dada corrida, faça um programa (ou função) que imprima na tela o nome do vencedor, i.e., o que teve o menor tempo."
   ]
  },
  {
   "cell_type": "code",
   "execution_count": null,
   "metadata": {},
   "outputs": [],
   "source": [
    "resultados = {}\n",
    "resultados['jose'] = 5.1 \n",
    "resultados['julia'] = 9.3\n",
    "resultados['zeca'] = 6\n",
    "resultados['pedro'] = 4.7\n",
    "resultados['maria'] = 6.8\n",
    "\n",
    "# seu codigo aqui"
   ]
  },
  {
   "cell_type": "markdown",
   "metadata": {},
   "source": [
    "## Questão 6\n",
    "Considere a lista definida abaixo, na qual cada elemento da lista mais externa representa as informações referentes a um poço artesiano. Essas informações estão estruturadas na forma de um dicionário:"
   ]
  },
  {
   "cell_type": "code",
   "execution_count": null,
   "metadata": {},
   "outputs": [],
   "source": [
    "dados = [ \n",
    "            {'coords':(-8.085591, -37.640751), 'cidade':'Custódia', 'nivel': 21.5}, \n",
    "            {'coords':(-7.489799, -38.987207), 'cidade':'Fazenda Brejo Santo', 'nivel':0.6}, \n",
    "            {'coords':(-7.991078, -38.298982), 'cidade':'Serra Talhada', 'nivel':12.75}, \n",
    "            {'coords':(-7.894968, -40.079718), 'cidade':'Ouricuri', 'nivel':3.25}, \n",
    "            {'coords':(-8.000022, -34.884353), 'cidade':'Aguazinha', 'nivel':25.0}, \n",
    "            {'coords':(-8.060303, -34.870364), 'cidade':'Bairro do Recife', 'nivel':10.2}, \n",
    "        ]"
   ]
  },
  {
   "cell_type": "markdown",
   "metadata": {},
   "source": [
    "\n",
    "Um poço é considerado com nível CRÍTICO quando está abaixo de 10m. Escreva um programa em Python que processe a lista dados, e imprima na tela todas as localidades com nível crítico, bem como suas coordenadas geográficas. Por exemplo:\n",
    "\n",
    "```\n",
    "NÍVEL CRÍTICO: 0.6 metros\n",
    "  Localidade: Fazenda Brejo Santo \n",
    "  Latitude: -7.489799\n",
    "  Longitude: -38.987207\n",
    "\n",
    "NÍVEL CRÍTICO: 3.25 metros\n",
    "  Localidade: Ouricuri \n",
    "  Latitude: -7.894968\n",
    "  Longitude: -40.079718\n",
    "```"
   ]
  },
  {
   "cell_type": "code",
   "execution_count": null,
   "metadata": {},
   "outputs": [],
   "source": [
    "# seu codigo aqui"
   ]
  },
  {
   "cell_type": "markdown",
   "metadata": {},
   "source": [
    "## Questão 7\n",
    "A densidade de uma peça de madeira é definida como a razão da massa (em kg) pelo volume (em m3). \n",
    "As diversas espécies de madeira podem ser classificadas em:\n",
    "    - madeiras de baixa densidade (valores abaixo de 450 kg/m3); \n",
    "    - de média densidade (valores entre 450 kg/m3 e 750 kg/m3);\n",
    "    - de alta densidade (acima de 750 kg/m3). \n",
    "Crie duas **FUNÇÕES**:\n",
    "\n",
    "    a) função `volume`, que receba as dimensões de uma peça de madeira (largura, altura e profundidade), e retorne o volume da peça\n",
    "    b) função `tipo_madeira`, que receba dois argumentos: a massa e o volume, e informe se a madeira é de baixa, média ou alta densidade. "
   ]
  },
  {
   "cell_type": "code",
   "execution_count": null,
   "metadata": {},
   "outputs": [],
   "source": [
    "# seu codigo aqui"
   ]
  },
  {
   "cell_type": "markdown",
   "metadata": {},
   "source": [
    "Teste suas funções usando o código abaixo:"
   ]
  },
  {
   "cell_type": "code",
   "execution_count": null,
   "metadata": {},
   "outputs": [],
   "source": [
    "print( volume(1,0.6,0.3) )\n",
    "print( tipo_madeira(0.8, volume(1,0.6,0.3) ) )"
   ]
  }
 ],
 "metadata": {
  "colab": {
   "include_colab_link": true,
   "name": "Lista_03.ipynb",
   "provenance": [],
   "version": "0.3.2"
  },
  "kernelspec": {
   "display_name": "Python 3",
   "language": "python",
   "name": "python3"
  },
  "language_info": {
   "codemirror_mode": {
    "name": "ipython",
    "version": 3
   },
   "file_extension": ".py",
   "mimetype": "text/x-python",
   "name": "python",
   "nbconvert_exporter": "python",
   "pygments_lexer": "ipython3",
   "version": "3.7.3"
  }
 },
 "nbformat": 4,
 "nbformat_minor": 2
}
